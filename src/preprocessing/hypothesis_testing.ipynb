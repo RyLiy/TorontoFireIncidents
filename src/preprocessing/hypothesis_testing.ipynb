{
 "cells": [
  {
   "cell_type": "markdown",
   "metadata": {},
   "source": [
    "## Assessing Statistical Significance and P-values in Project Objectives\n",
    "\n",
    "### Analyzing Associations and Predicting Impact in Fire Incidents\n",
    "Our objective is to assess the strength of associations between fire incidents and predict their impact based on various circumstances. \n",
    "This impact will be measured using dependent variables, which may include features such as the number of people displaced, fatalities, property damage, among others. \n",
    "The circumstances surrounding fire incidents will be evaluated and treated as independent variables, encompassing features such as the extent of fire, ignition source, property use, etc.\n",
    "\n",
    "We will examine whether the presence or absence of specific nominal features (categorized circumstances) can influence the outcome of continuous features (measured impact) of fire incidents.\n",
    "\n",
    "### Methodologies Used\n",
    "- Kruskal-Wallis Test.\n",
    "\n",
    "The Kruskal-Wallis test is a non-parametric test used to compare the medians of a continuous variable across different groups defined by a nominal variable. It is suitable when the assumptions of normality and homogeneity of variances (lack of outliers) required by ANOVA are not met.\n",
    "\n",
    "(https://www.statology.org/kruskal-wallis-test/)\n",
    "\n",
    "- Spearman coefficient.\n",
    "\n",
    "The Spearman co-efficient is used to measure a monotonic relationship between two continous variables. \"A monotonic relationship between two continous variables refers to a scenario where a change in one variable is generally associated with a change in a specific direction in another variable.\"\n",
    "\n",
    "(https://www.statology.org/monotonic-relationship/)"
   ]
  },
  {
   "cell_type": "markdown",
   "metadata": {},
   "source": [
    "#### Import Dependencies and Dataframe\n"
   ]
  },
  {
   "cell_type": "code",
   "execution_count": 10,
   "metadata": {},
   "outputs": [],
   "source": [
    "import pandas as pd\n",
    "\n",
    "from sklearn.preprocessing import StandardScaler\n",
    "from scipy.stats import kruskal\n",
    "from scipy.stats import chi2 # Will be used to reject \n",
    "from scipy.stats import spearmanr"
   ]
  },
  {
   "cell_type": "code",
   "execution_count": 11,
   "metadata": {},
   "outputs": [],
   "source": [
    "df = pd.read_csv('../../data/processed/numerical_encoded_Fire_Incidents_Data.csv')"
   ]
  },
  {
   "cell_type": "markdown",
   "metadata": {},
   "source": [
    "#### Test 1: Assesing correlation between Number_of_responding_personnel and Estimated_Dollar_Loss\n",
    "\n",
    "- **Null Hypothesis (H0):** There is no significant association between the number of responding personnel and the estimated dollar loss.\n",
    "\n",
    "- **Alternative Hypothesis (H1):** There is a significant association between the number of responding personnel and the estimated dollar loss."
   ]
  },
  {
   "cell_type": "code",
   "execution_count": 12,
   "metadata": {},
   "outputs": [
    {
     "name": "stdout",
     "output_type": "stream",
     "text": [
      "Spearman's Rank Correlation Coefficient: 0.5638037628815248\n",
      "P-value: 0.0\n"
     ]
    }
   ],
   "source": [
    "# Initialize StandardScaler\n",
    "scaler = StandardScaler()\n",
    "\n",
    "#Normalize variables.\n",
    "df[['Estimated_Dollar_Loss', 'Number_of_responding_personnel']] = scaler.fit_transform(df[['Estimated_Dollar_Loss', 'Number_of_responding_personnel']])\n",
    "\n",
    "spearman_corr, p_value = spearmanr(df['Estimated_Dollar_Loss'], df['Number_of_responding_personnel'])\n",
    "\n",
    "print(\"Spearman's Rank Correlation Coefficient:\", spearman_corr)\n",
    "print(\"P-value:\", p_value)"
   ]
  },
  {
   "cell_type": "markdown",
   "metadata": {},
   "source": [
    "##### Test 1 Results.\n",
    "The Spearman's Rank Correlation Coefficient of 0.5638037628815248 indicates moderate correlation between the number of responding personnel and the estimated dollar loss per fire incident.\n",
    "\n",
    "The p-value is 0.0, indicating that it is extremely small. With significance levels of 0.01, this result is statistically significant.\n",
    "\n",
    "Therefore, the (H0) null hypothesis of test 1 can be rejected."
   ]
  },
  {
   "cell_type": "markdown",
   "metadata": {},
   "source": [
    "#### Test 2: Assesing the difference between Estimated_Dollar_Loss and Material_First_Ignited.\n",
    "- **Null Hypothesis (H0):** There is no significant difference in the estimated dollar loss per fire incident across different materials first ignited.\n",
    "\n",
    "- **Alternative Hypothesis (H1):** There is a significant difference in the estimated dollar loss per fire incident across different materials first ignited."
   ]
  },
  {
   "cell_type": "code",
   "execution_count": 13,
   "metadata": {},
   "outputs": [
    {
     "name": "stdout",
     "output_type": "stream",
     "text": [
      "H-statistic: 2847.2881536150944\n",
      "P-value: 0.0\n",
      "Critical Chi-square Value: 98.02840328331405\n"
     ]
    }
   ],
   "source": [
    "nominal_feature = 'Estimated_Dollar_Loss'\n",
    "continous_feature = 'Material_First_Ignited'\n",
    "\n",
    "# Perform Kruskal-Wallis test. Estimated_Dollar_Loss has already been normalized, though it does need to be.\n",
    "h_statistic, p_value = kruskal(*[group['Estimated_Dollar_Loss'] for name, group in df.groupby('Material_First_Ignited')])\n",
    "\n",
    "print(\"H-statistic:\", h_statistic)\n",
    "print(\"P-value:\", p_value)\n",
    "\n",
    "\n",
    "alpha = 0.01  # Setting significance value\n",
    "\n",
    "# calculating degrees of freedom (c - 1)\n",
    "degrees_of_freedom = len(df['Material_First_Ignited'].unique()) - 1\n",
    "\n",
    "# Find the critical chi-square value. \n",
    "critical_chi2_value = chi2.ppf(1 - alpha, degrees_of_freedom)\n",
    "\n",
    "print(\"Critical Chi-square Value:\", critical_chi2_value)"
   ]
  },
  {
   "cell_type": "markdown",
   "metadata": {},
   "source": [
    "##### Test 2 Results.\n",
    "\n",
    "With an H-statistic of 2847.2881536150944, and a Critical Chi-square Value of 98.02840328331405 less that, suggests that there is a signifcant difference between these variables.\n",
    "The p-value is 0.0 meaning that this test is statistically significant.\n",
    "\n",
    "Therefore, the null hypothesis (H0) of test 2 can be rejected, since there is a significant difference in the estimated dollar loss per fire incident across different materials first ignited."
   ]
  },
  {
   "cell_type": "markdown",
   "metadata": {},
   "source": [
    "### Discussion.\n",
    "\n",
    "These findings suggest that attributes such as the number of responding personnel and the material first ignited play significant roles in determining the financial losses associated with fire incidents.\n",
    "\n",
    "#### Excerpt  of Test #1 Results:\n",
    "- For the correlation between Number_of_responding_personnel and Estimated_Dollar_Loss:\n",
    "  - Spearman correlation coefficient: 0.5638037628815248\n",
    "\n",
    "#### Excerpt  of Test #2 Results:\n",
    "- For the the difference between Estimated_Dollar_Loss and Material_First_Ignited:\n",
    "  - H-statistic: 2847.2881536150944\n",
    "  - Critical Chi-square Value: 98.02840328331405\n",
    "\n",
    "At a significance level of 0.01, the results of Test #1 and Test #2 <b>indicate a rejection of the null hypothesis</b> in both tests, suggesting statistically significant relationships between the circumstances of a fire incident and it's impact. As a result, further data mining will be pursued to glean additional insights into the significance of this relationship, in order to develop predictive models to enhance emergency response, minimize financial losses, and reduce human casualties."
   ]
  }
 ],
 "metadata": {
  "kernelspec": {
   "display_name": ".venv",
   "language": "python",
   "name": "python3"
  },
  "language_info": {
   "codemirror_mode": {
    "name": "ipython",
    "version": 3
   },
   "file_extension": ".py",
   "mimetype": "text/x-python",
   "name": "python",
   "nbconvert_exporter": "python",
   "pygments_lexer": "ipython3",
   "version": "3.9.6"
  }
 },
 "nbformat": 4,
 "nbformat_minor": 2
}
